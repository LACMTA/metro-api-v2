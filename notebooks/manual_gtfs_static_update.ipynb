{
 "cells": [
  {
   "cell_type": "code",
   "execution_count": null,
   "metadata": {},
   "outputs": [],
   "source": [
    "import pandas"
   ]
  }
 ],
 "metadata": {
  "kernelspec": {
   "display_name": "Python 3.9.5 ('metro')",
   "language": "python",
   "name": "python3"
  },
  "language_info": {
   "name": "python",
   "version": "3.9.5"
  },
  "orig_nbformat": 4,
  "vscode": {
   "interpreter": {
    "hash": "c263e3016fdbcc18f23c6f6a65675b5fd898a6e9c804caa5b7f1b343f9ad6c95"
   }
  }
 },
 "nbformat": 4,
 "nbformat_minor": 2
}
